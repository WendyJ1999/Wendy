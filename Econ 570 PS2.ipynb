{
 "cells": [
  {
   "cell_type": "code",
   "execution_count": 17,
   "id": "4f5f77c1",
   "metadata": {},
   "outputs": [],
   "source": [
    "import pandas as pd\n",
    "import numpy as np\n",
    "import random\n",
    "import statsmodels.api as sm\n",
    "import graphviz as gr\n",
    "from sklearn.model_selection import cross_val_score\n",
    "from sklearn.model_selection import RepeatedKFold\n",
    "from sklearn.linear_model import Lasso\n",
    "from sklearn.feature_selection import SelectFromModel\n",
    "import matplotlib.pyplot as plt\n",
    "from tqdm import tqdm\n",
    "random.seed(10)"
   ]
  },
  {
   "cell_type": "code",
   "execution_count": 11,
   "id": "487e64b2",
   "metadata": {},
   "outputs": [],
   "source": [
    "def fn_variance(data, ddof=0):\n",
    "    n = len(data)\n",
    "    mean = sum(data) / n\n",
    "    return sum((x - mean) ** 2 for x in data) / (n - ddof)"
   ]
  },
  {
   "cell_type": "code",
   "execution_count": 12,
   "id": "ab52f663",
   "metadata": {},
   "outputs": [],
   "source": [
    "def fn_generate_cov(dim):\n",
    "    acc  = []\n",
    "    for i in range(dim):\n",
    "        row = np.ones((1,dim)) * corr\n",
    "        row[0][i] = 1\n",
    "        acc.append(row)\n",
    "    return np.concatenate(acc,axis=0)\n",
    "\n",
    "def fn_generate_multnorm(nobs,corr,nvar):\n",
    "\n",
    "    mu = np.zeros(nvar)\n",
    "    std = (np.abs(np.random.normal(loc = 1, scale = .5,size = (nvar,1))))**(1/2)\n",
    "    # generate random normal distribution\n",
    "    acc = []\n",
    "    for i in range(nvar):\n",
    "        acc.append(np.reshape(np.random.normal(mu[i],std[i],nobs),(nobs,-1)))\n",
    "    \n",
    "    normvars = np.concatenate(acc,axis=1)\n",
    "\n",
    "    cov = fn_generate_cov(nvar)\n",
    "    C = np.linalg.cholesky(cov)\n",
    "\n",
    "    Y = np.transpose(np.dot(C,np.transpose(normvars)))\n",
    "\n",
    "#     return (Y,np.round(np.corrcoef(Y,rowvar=False),2))\n",
    "    return Y\n",
    "\n",
    "def fn_randomize_treatment(N,p=0.5):\n",
    "    treated = random.sample(range(N), round(N*p))\n",
    "    return np.array([(1 if i in treated else 0) for i in range(N)]).reshape([N,1])\n",
    "def fn_generate_data(tau,N,p,p0,corr,conf = True,flagX = False):\n",
    "    \"\"\"\n",
    "    p0(int): number of covariates with nonzero coefficients\n",
    "    \"\"\"\n",
    "    nvar = p+2 # 1 confounder and variable for randomizing treatment\n",
    "    corr = 0.5 # correlation for multivariate normal\n",
    "\n",
    "    if conf==False:\n",
    "        conf_mult = 0 # remove confounder from outcome\n",
    "        \n",
    "    allX = fn_generate_multnorm(N,corr,nvar)\n",
    "    W0 = allX[:,0].reshape([N,1]) # variable for RDD assignment\n",
    "    C = allX[:,1].reshape([N,1]) # confounder\n",
    "    X = allX[:,2:] # observed covariates\n",
    "    \n",
    "    T = fn_randomize_treatment(N) # choose treated units\n",
    "    err = np.random.normal(0,1,[N,1])\n",
    "    beta0 = np.random.normal(5,5,[p,1])\n",
    "    \n",
    "    beta0[p0:p] = 0 # sparse model\n",
    "    Yab = tau*T+X@beta0+conf_mult*0.6*C+err\n",
    "    if flagX==False:\n",
    "        return (Yab,T)\n",
    "    else:\n",
    "        return (Yab,T,X)\n",
    "    \n",
    "    # regression discontinuity\n",
    "#     W = W0 + 0.5*C+3*X[:,80].reshape([N,1])-6*X[:,81].reshape([N,1])\n",
    "#     treated = 1*(W>0)\n",
    "#     Yrdd = 1.2* treated - 4*W + X@beta0 +0.6*C+err\n",
    "\n",
    "def fn_tauhat_means(Yt,Yc):\n",
    "    nt = len(Yt)\n",
    "    nc = len(Yc)\n",
    "    tauhat = np.mean(Yt)-np.mean(Yc)\n",
    "    se_tauhat = (np.var(Yt,ddof=1)/nt+np.var(Yc,ddof=1)/nc)**(1/2)\n",
    "    return (tauhat,se_tauhat)\n",
    "\n",
    "def fn_bias_rmse_size(theta0,thetahat,se_thetahat,cval = 1.96):\n",
    "    \"\"\"\n",
    "    theta0 - true parameter value\n",
    "    thetatahat - estimated parameter value\n",
    "    se_thetahat - estiamted se of thetahat\n",
    "    \"\"\"\n",
    "    b = thetahat - theta0\n",
    "    bias = np.mean(b)\n",
    "    rmse = np.sqrt(np.mean(b**2))\n",
    "    tval = b/se_thetahat # paramhat/se_paramhat H0: theta = 0\n",
    "    size = np.mean(1*(np.abs(tval)>cval))\n",
    "    # note size calculated at true parameter value\n",
    "    return (bias,rmse,size)\n",
    "\n",
    "def fn_run_experiments(tau,Nrange,p,p0,corr,conf,flagX=False):\n",
    "    n_values = []\n",
    "    tauhats = []\n",
    "    sehats = []\n",
    "    lb = []\n",
    "    ub = []\n",
    "    for N in tqdm(Nrange):\n",
    "        n_values = n_values + [N]\n",
    "        if flagX==False:\n",
    "            Yexp,T = fn_generate_data(tau,N,p,p0,corr,conf,flagX)\n",
    "            Yt = Yexp[np.where(T==1)[0],:]\n",
    "            Yc = Yexp[np.where(T==0)[0],:]\n",
    "            tauhat,se_tauhat = fn_tauhat_means(Yt,Yc)            \n",
    "        elif flagX==1:\n",
    "            # use the right covariates in regression\n",
    "            Yexp,T,X = fn_generate_data(tau,N,p,p0,corr,conf,flagX)\n",
    "            Xobs = X[:,:p0]\n",
    "            covars = np.concatenate([T,Xobs],axis = 1)\n",
    "            mod = sm.OLS(Yexp,covars)\n",
    "            res = mod.fit()\n",
    "            tauhat = res.params[0]\n",
    "            se_tauhat = res.HC1_se[0]\n",
    "        elif flagX==2:\n",
    "            # use some of the right covariates and some \"wrong\" ones\n",
    "            Yexp,T,X = fn_generate_data(tau,N,p,p0,corr,conf,flagX)\n",
    "            Xobs1 = X[:,:np.int(p0/2)]\n",
    "            Xobs2 = X[:,-np.int(p0/2):]\n",
    "            covars = np.concatenate([T,Xobs1,Xobs2],axis = 1)\n",
    "            mod = sm.OLS(Yexp,covars)\n",
    "            res = mod.fit()\n",
    "            tauhat = res.params[0]\n",
    "            se_tauhat = res.HC1_se[0]\n",
    "            \n",
    "        tauhats = tauhats + [tauhat]\n",
    "        sehats = sehats + [se_tauhat]    \n",
    "        lb = lb + [tauhat-1.96*se_tauhat]\n",
    "        ub = ub + [tauhat+1.96*se_tauhat]\n",
    "        \n",
    "    return (n_values,tauhats,sehats,lb,ub)\n",
    "\n",
    "\n",
    "def fn_plot_with_ci(n_values,tauhats,tau,lb,ub,caption):\n",
    "    fig = plt.figure(figsize = (10,6))\n",
    "    plt.plot(n_values,tauhats,label = '$\\hat{\\\\tau}$')\n",
    "    plt.xlabel('N')\n",
    "    plt.ylabel('$\\hat{\\\\tau}$')\n",
    "    plt.axhline(y=tau, color='r', linestyle='-',linewidth=1,\n",
    "                label='True $\\\\tau$={}'.format(tau))\n",
    "    plt.title('{}'.format(caption))\n",
    "    plt.fill_between(n_values, lb, ub,\n",
    "        alpha=0.5, edgecolor='#FF9848', facecolor='#FF9848',label = '95% CI')\n",
    "    plt.legend()"
   ]
  },
  {
   "cell_type": "markdown",
   "id": "8e6df37e",
   "metadata": {},
   "source": [
    "# Q1 Covariates"
   ]
  },
  {
   "cell_type": "markdown",
   "id": "c2dcadc8",
   "metadata": {},
   "source": [
    "# (1) Experiments with no covariates in the DGP\n",
    "\n",
    "𝑦𝑖=𝜏∗𝑇𝑖+𝑒𝑖\n",
    "\n",
    "Example: If we want to test the relationship between sales volumn and different color of a good such as the cup. We need to control the other varibles. The price, material, size, shape and so on should be the same. Then we can know which color is the best selling.\n",
    "\n",
    "t: color y:popularity"
   ]
  },
  {
   "cell_type": "code",
   "execution_count": null,
   "id": "0498d42b",
   "metadata": {},
   "outputs": [],
   "source": [
    "g = gr.Digraph()\n",
    "g.edge(\"Ti\",\"Y\")\n",
    "g.edge(\"Xi\",\"Y\",style=\"dashed\")\n",
    "g"
   ]
  },
  {
   "cell_type": "code",
   "execution_count": 8,
   "id": "7d4da089",
   "metadata": {},
   "outputs": [
    {
     "name": "stderr",
     "output_type": "stream",
     "text": [
      "100%|███████████████████████████████████████████████████████████████████████████████| 495/495 [00:00<00:00, 512.33it/s]\n"
     ]
    }
   ],
   "source": [
    "tau = 2\n",
    "corr = .5\n",
    "conf=False\n",
    "p = 10\n",
    "p0 = 0 # number of covariates used in the DGP\n",
    "Nrange = range(10,1000,2) # loop over N values\n",
    "(nvalues,tauhats,sehats,lb,ub) = fn_run_experiments(tau,Nrange,p,p0,corr,conf)"
   ]
  },
  {
   "cell_type": "code",
   "execution_count": 9,
   "id": "194c1426",
   "metadata": {},
   "outputs": [
    {
     "data": {
      "image/png": "[encoded data removed]",
      "text/plain": [
       "<Figure size 720x432 with 1 Axes>"
      ]
     },
     "metadata": {
      "needs_background": "light"
     },
     "output_type": "display_data"
    }
   ],
   "source": [
    "caption = \"\"\"Estimates of the treatment effect parameter \n",
    "    for a randomized experiment without confounders\"\"\"\n",
    "fn_plot_with_ci(nvalues,tauhats,tau,lb,ub,caption)"
   ]
  },
  {
   "cell_type": "code",
   "execution_count": null,
   "id": "377674b2",
   "metadata": {},
   "outputs": [],
   "source": [
    "N = 100\n",
    "Yexp,T = fn_generate_data(tau,N,10,0,corr,conf = False)\n",
    "Yt = Yexp[np.where(T==1)[0],:]\n",
    "Yc = Yexp[np.where(T==0)[0],:]\n",
    "tauhat,se_tauhat = fn_tauhat_means(Yt,Yc)\n",
    "# n_values = n_values + [N]\n",
    "# tauhats = tauhats + [tauhat]\n",
    "lb = lb + [tauhat-1.96*se_tauhat]\n",
    "ub = ub + [tauhat+1.96*se_tauhat]"
   ]
  },
  {
   "cell_type": "code",
   "execution_count": null,
   "id": "83ced491",
   "metadata": {},
   "outputs": [],
   "source": [
    "tauhat,se_tauhat"
   ]
  },
  {
   "cell_type": "code",
   "execution_count": null,
   "id": "bd203ef3",
   "metadata": {},
   "outputs": [],
   "source": [
    "model = sm.OLS(Yexp,np.concatenate([T,const],axis = 1))\n",
    "res = model.fit()\n",
    "# res.summary()\n",
    "res.params[0], res.HC1_se[0]"
   ]
  },
  {
   "cell_type": "markdown",
   "id": "509ff5b2",
   "metadata": {},
   "source": [
    "# Run R Monte Carlo iterations and compute bias, RMSE and size"
   ]
  },
  {
   "cell_type": "code",
   "execution_count": null,
   "id": "23412441",
   "metadata": {},
   "outputs": [],
   "source": [
    "estDict = {}\n",
    "R = 2000\n",
    "for N in [10,50,100,500,1000]:\n",
    "    tauhats = []\n",
    "    sehats = []\n",
    "    for r in tqdm(range(R)):\n",
    "        Yexp,T = fn_generate_data(tau,N,10,0,corr,conf)\n",
    "        Yt = Yexp[np.where(T==1)[0],:]\n",
    "        Yc = Yexp[np.where(T==0)[0],:]\n",
    "        tauhat,se_tauhat = fn_tauhat_means(Yt,Yc)\n",
    "        tauhats = tauhats + [tauhat]\n",
    "        sehats = sehats + [se_tauhat]\n",
    "    estDict[N] = {\n",
    "        'tauhat':np.array(tauhats).reshape([len(tauhats),1]),\n",
    "        'sehat':np.array(sehats).reshape([len(sehats),1])\n",
    "    }"
   ]
  },
  {
   "cell_type": "code",
   "execution_count": null,
   "id": "70610dfb",
   "metadata": {},
   "outputs": [],
   "source": [
    "tau0 = tau*np.ones([R,1])\n",
    "for N, results in estDict.items():\n",
    "    (bias,rmse,size) = fn_bias_rmse_size(tau0,results['tauhat'],\n",
    "                                         results['sehat'])\n",
    "    print(f'N={N}: bias={bias}, RMSE={rmse}, size={size}')\n",
    "    "
   ]
  },
  {
   "cell_type": "markdown",
   "id": "70141233",
   "metadata": {},
   "source": [
    "# (2) Experiments with covariates in the DGP\n",
    "\n",
    "𝑦𝑖=𝜏∗𝑇𝑖+𝛽'∗𝑥𝑖+𝑒𝑖\n",
    "\n",
    "Now there are other variables may effect the sales volume of the cups,such as the price, material, size, shape and so on."
   ]
  },
  {
   "cell_type": "code",
   "execution_count": null,
   "id": "53a4e33a",
   "metadata": {},
   "outputs": [],
   "source": [
    "g = Digraph()\n",
    "g.edge(\"T\", \"Y\")\n",
    "g.edge(\"X\",\"Y\")\n",
    "g"
   ]
  },
  {
   "cell_type": "code",
   "execution_count": null,
   "id": "361e5caf",
   "metadata": {},
   "outputs": [],
   "source": [
    "tau = 2\n",
    "corr = .5\n",
    "conf=False\n",
    "p = 100\n",
    "p0 = 50 # number of covariates used in the DGP\n",
    "Nrange = range(10,1000,2) # loop over N values\n",
    "(nvalues_x,tauhats_x,sehats_x,lb_x,ub_x) = fn_run_experiments(tau,Nrange,p,p0,corr,conf)"
   ]
  },
  {
   "cell_type": "code",
   "execution_count": null,
   "id": "799ecd78",
   "metadata": {},
   "outputs": [],
   "source": [
    "caption = \"\"\"Estimates of the treatment effect parameter \n",
    "for a randomized experiment with X's in the DGP\"\"\"\n",
    "fn_plot_with_ci(nvalues_x,tauhats_x,tau,lb_x,ub_x,caption)"
   ]
  },
  {
   "cell_type": "code",
   "execution_count": null,
   "id": "dee1ff7d",
   "metadata": {},
   "outputs": [],
   "source": [
    "N = 100\n",
    "Yexp,T = fn_generate_data(tau,N,10,0,corr,conf = False)\n",
    "Yt = Yexp[np.where(T==1)[0],:]\n",
    "Yc = Yexp[np.where(T==0)[0],:]\n",
    "tauhat,se_tauhat = fn_tauhat_means(Yt,Yc)\n",
    "# n_values = n_values + [N]\n",
    "# tauhats = tauhats + [tauhat]\n",
    "lb = lb + [tauhat-1.96*se_tauhat]\n",
    "ub = ub + [tauhat+1.96*se_tauhat]"
   ]
  },
  {
   "cell_type": "code",
   "execution_count": null,
   "id": "bd6c012a",
   "metadata": {},
   "outputs": [],
   "source": [
    "tau = 2\n",
    "corr = .5\n",
    "conf=False\n",
    "p = 100\n",
    "p0 = 0 # number of covariates used in the DGP\n",
    "Nrange = range(10,1000,2) # loop over N values\n",
    "(nvalues_x0,tauhats_x0,sehats_x0,lb_x0,ub_x0) = fn_run_experiments(tau,Nrange,p,p0,corr,conf)"
   ]
  },
  {
   "cell_type": "code",
   "execution_count": null,
   "id": "1753ae22",
   "metadata": {},
   "outputs": [],
   "source": [
    "fig = plt.figure(figsize = (10,6))\n",
    "plt.plot(nvalues_x,tauhats_x,label = '$\\hat{\\\\tau}^{(x)}$')\n",
    "plt.plot(nvalues_x,tauhats_x0,label = '$\\hat{\\\\tau}$',color = 'green')\n",
    "plt.legend()"
   ]
  },
  {
   "cell_type": "code",
   "execution_count": null,
   "id": "ea2e49ec",
   "metadata": {},
   "outputs": [],
   "source": [
    "fig = plt.figure(figsize = (10,6))\n",
    "plt.plot(nvalues_x[400:],tauhats_x[400:],label = '$\\hat{\\\\tau}^{(x)}$')\n",
    "plt.plot(nvalues_x[400:],tauhats_x0[400:],label = '$\\hat{\\\\tau}$',color = 'green')\n",
    "plt.legend()"
   ]
  },
  {
   "cell_type": "code",
   "execution_count": null,
   "id": "faf17b0d",
   "metadata": {},
   "outputs": [],
   "source": [
    "tau = 2\n",
    "corr = .5\n",
    "conf=False\n",
    "p = 100\n",
    "p0 = 50 # number of covariates used in the DGP\n",
    "Nrange = range(1000,50000,10000) # loop over N values\n",
    "(nvalues_x2,tauhats_x2,sehats_x2,lb_x2,ub_x2) = fn_run_experiments(tau,Nrange,p,p0,corr,conf)"
   ]
  },
  {
   "cell_type": "code",
   "execution_count": null,
   "id": "5c5ba67d",
   "metadata": {},
   "outputs": [],
   "source": [
    "fn_plot_with_ci(nvalues_x2,tauhats_x2,tau,lb_x2,ub_x2,caption)"
   ]
  },
  {
   "cell_type": "markdown",
   "id": "1800b0cf",
   "metadata": {},
   "source": [
    "# Run R Monte Carlo iterations and compute bias, RMSE and size"
   ]
  },
  {
   "cell_type": "code",
   "execution_count": null,
   "id": "20bb4196",
   "metadata": {},
   "outputs": [],
   "source": [
    "estDict = {}\n",
    "R = 2000\n",
    "for N in [10,50,100,500,1000]:\n",
    "    tauhats = []\n",
    "    sehats = []\n",
    "    for r in tqdm(range(R)):\n",
    "        Yexp,T = fn_generate_data(tau,N,10,0,corr,conf)\n",
    "        Yt = Yexp[np.where(T==1)[0],:]\n",
    "        Yc = Yexp[np.where(T==0)[0],:]\n",
    "        tauhat,se_tauhat = fn_tauhat_means(Yt,Yc)\n",
    "        tauhats = tauhats + [tauhat]\n",
    "        sehats = sehats + [se_tauhat]\n",
    "    estDict[N] = {\n",
    "        'tauhat':np.array(tauhats).reshape([len(tauhats),1]),\n",
    "        'sehat':np.array(sehats).reshape([len(sehats),1])\n",
    "    }"
   ]
  },
  {
   "cell_type": "code",
   "execution_count": null,
   "id": "fe0b33b3",
   "metadata": {},
   "outputs": [],
   "source": [
    "tau0 = tau*np.ones([R,1])\n",
    "for N, results in estDict.items():\n",
    "    (bias,rmse,size) = fn_bias_rmse_size(tau0,results['tauhat'],\n",
    "                                         results['sehat'])\n",
    "    print(f'N={N}: bias={bias}, RMSE={rmse}, size={size}')"
   ]
  },
  {
   "cell_type": "markdown",
   "id": "77831de5",
   "metadata": {},
   "source": [
    "# Q2"
   ]
  },
  {
   "cell_type": "markdown",
   "id": "1c621f82",
   "metadata": {},
   "source": [
    "# (1) Fail to control for the confounder\n",
    "\n",
    "Example: If the seller sells a tea spoon and a cup as a combo, the tea spoon will influence the sales volume of the cup. If the tea spoon very ugly or very poor quality, it will decrease the sales volume of the cup. The tea spoon in the confounder in this case.\n",
    "\n",
    "𝑦𝑖=𝜏∗𝑇𝑖+𝑒𝑖"
   ]
  },
  {
   "cell_type": "code",
   "execution_count": null,
   "id": "aea2ce7b",
   "metadata": {},
   "outputs": [],
   "source": [
    "g = gr.Digraph()\n",
    "g.edge(\"Ti\",\"Y\")\n",
    "g.edge(\"Xi\",\"Y\",style=\"dashed\")\n",
    "g"
   ]
  },
  {
   "cell_type": "code",
   "execution_count": null,
   "id": "c5729511",
   "metadata": {},
   "outputs": [],
   "source": [
    "tau = 2\n",
    "corr = .5\n",
    "conf=False\n",
    "p = 10\n",
    "p0 = 0 # number of covariates used in the DGP\n",
    "Nrange = range(10,1000,2) # loop over N values\n",
    "(nvalues,tauhats,sehats,lb,ub) = fn_run_experiments(tau,Nrange,p,p0,corr,conf)"
   ]
  },
  {
   "cell_type": "code",
   "execution_count": null,
   "id": "922748b8",
   "metadata": {},
   "outputs": [],
   "source": [
    "caption = \"\"\"Estimates of the treatment effect parameter \n",
    "    for a randomized experiment without confounders\"\"\"\n",
    "fn_plot_with_ci(nvalues,tauhats,tau,lb,ub,caption)"
   ]
  },
  {
   "cell_type": "code",
   "execution_count": null,
   "id": "1a9672a9",
   "metadata": {},
   "outputs": [],
   "source": [
    "N = 100\n",
    "Yexp,T = fn_generate_data(tau,N,10,0,corr,conf = False)\n",
    "Yt = Yexp[np.where(T==1)[0],:]\n",
    "Yc = Yexp[np.where(T==0)[0],:]\n",
    "tauhat,se_tauhat = fn_tauhat_means(Yt,Yc)\n",
    "# n_values = n_values + [N]\n",
    "# tauhats = tauhats + [tauhat]\n",
    "lb = lb + [tauhat-1.96*se_tauhat]\n",
    "ub = ub + [tauhat+1.96*se_tauhat"
   ]
  },
  {
   "cell_type": "code",
   "execution_count": null,
   "id": "c8f68068",
   "metadata": {},
   "outputs": [],
   "source": [
    "tauhat,se_tauhat"
   ]
  },
  {
   "cell_type": "code",
   "execution_count": null,
   "id": "2d624dca",
   "metadata": {},
   "outputs": [],
   "source": [
    "const = np.ones([N,1])"
   ]
  },
  {
   "cell_type": "code",
   "execution_count": null,
   "id": "ea2880b4",
   "metadata": {},
   "outputs": [],
   "source": [
    "model = sm.OLS(Yexp,np.concatenate([T,const],axis = 1))\n",
    "res = model.fit()\n",
    "# res.summary()\n",
    "res.params[0], res.HC1_se[0]"
   ]
  },
  {
   "cell_type": "markdown",
   "id": "cb977044",
   "metadata": {},
   "source": [
    "# Run R Monte Carlo iterations and compute bias, RMSE and size( For N=100 and N=1000)"
   ]
  },
  {
   "cell_type": "code",
   "execution_count": null,
   "id": "eea4f50f",
   "metadata": {},
   "outputs": [],
   "source": [
    "estDict = {}\n",
    "R = 2000\n",
    "for N in [100,1000]:\n",
    "    tauhats = []\n",
    "    sehats = []\n",
    "    for r in tqdm(range(R)):\n",
    "        Yexp,T = fn_generate_data(tau,N,10,0,corr,conf)\n",
    "        Yt = Yexp[np.where(T==1)[0],:]\n",
    "        Yc = Yexp[np.where(T==0)[0],:]\n",
    "        tauhat,se_tauhat = fn_tauhat_means(Yt,Yc)\n",
    "        tauhats = tauhats + [tauhat]\n",
    "        sehats = sehats + [se_tauhat]\n",
    "    estDict[N] = {\n",
    "        'tauhat':np.array(tauhats).reshape([len(tauhats),1]),\n",
    "        'sehat':np.array(sehats).reshape([len(sehats),1])"
   ]
  },
  {
   "cell_type": "markdown",
   "id": "5c41110e",
   "metadata": {},
   "source": [
    "# (2) Control the confounder\n",
    "\n",
    "𝑦𝑖=𝜏∗𝑇𝑖+𝑥𝑖+𝑒𝑖"
   ]
  },
  {
   "cell_type": "code",
   "execution_count": null,
   "id": "10b8e350",
   "metadata": {},
   "outputs": [],
   "source": [
    "g = gr.Digraph()\n",
    "g.edge(\"Ti\",\"Y\")\n",
    "g.edge(\"right Xi\",\"Y\")\n",
    "g.edge(\"conf\",\"Y\")\n",
    "g.edge(\"conf\",\"Ti\")\n",
    "g"
   ]
  },
  {
   "cell_type": "code",
   "execution_count": null,
   "id": "561c1f90",
   "metadata": {},
   "outputs": [],
   "source": [
    "tau = 2\n",
    "corr = .5\n",
    "conf = True\n",
    "p = 100\n",
    "p0 = 0  # number of covariates used in the DGP\n",
    "Nrange = range(10, 1000, 2)  # loop over N values\n",
    "(nvalues3, tauhats3, sehats3, lb3, ub3) = fn_run_experiments(tau, Nrange, p, p0, corr, conf)"
   ]
  },
  {
   "cell_type": "code",
   "execution_count": null,
   "id": "e6e256c8",
   "metadata": {},
   "outputs": [],
   "source": [
    "caption = \"\"\"Estimates of the treatment effect parameter \n",
    "for a randomized experiment with X's in the DGP\"\"\"\n",
    "fn_plot_with_ci(nvalues_x,tauhats_x,tau,lb_x,ub_x,caption)"
   ]
  },
  {
   "cell_type": "code",
   "execution_count": null,
   "id": "7fdeb291",
   "metadata": {},
   "outputs": [],
   "source": [
    "N = 100\n",
    "Yexp,T = fn_generate_data(tau,N,10,0,corr,conf = FalseN = 100\n",
    "Yexp, T = fn_generate_data(tau, N, 10, 0, corr, conf= True)\n",
    "Yt = Yexp[np.where(T == 1)[0], :]\n",
    "Yc = Yexp[np.where(T == 0)[0], :]\n",
    "tauhat, se_tauhat = fn_tauhat_means(Yt, Yc)\n",
    "lb = lb + [tauhat - 1.96 * se_tauhat]\n",
    "ub = ub + [tauhat + 1.96 * se_tauhat]\n",
    "# Tau hat & S.d Tauhat\n",
    "tauhat, se_tauhat)\n",
    "Yt = Yexp[np.where(T==1)[0],:]\n",
    "Yc = Yexp[np.where(T==0)[0],:]\n",
    "tauhat,se_tauhat = fn_tauhat_means(Yt,Yc)\n",
    "# n_values = n_values + [N]\n",
    "# tauhats = tauhats + [tauhat]\n",
    "lb = lb + [tauhat-1.96*se_tauhat]\n",
    "ub = ub + [tauhat+1.96*se_tauhat]"
   ]
  },
  {
   "cell_type": "markdown",
   "id": "f7e00980",
   "metadata": {},
   "source": [
    "# Run R Monte Carlo iterations and compute bias, RMSE and size ( For N=100 and N=1000)"
   ]
  },
  {
   "cell_type": "code",
   "execution_count": null,
   "id": "37498243",
   "metadata": {},
   "outputs": [],
   "source": [
    "estDict = {}\n",
    "R = 2000\n",
    "for N in [100,1000]:\n",
    "    tauhats = []\n",
    "    sehats = []\n",
    "    for r in tqdm(range(R)):\n",
    "        Yexp,T = fn_generate_data(tau,N,10,0,corr,conf)\n",
    "        Yt = Yexp[np.where(T==1)[0],:]\n",
    "        Yc = Yexp[np.where(T==0)[0],:]\n",
    "        tauhat,se_tauhat = fn_tauhat_means(Yt,Yc)\n",
    "        tauhats = tauhats + [tauhat]\n",
    "        sehats = sehats + [se_tauhat]\n",
    "    estDict[N] = {\n",
    "        'tauhat':np.array(tauhats).reshape([len(tauhats),1]),\n",
    "        'sehat':np.array(sehats).reshape([len(sehats),1])\n",
    "    }"
   ]
  },
  {
   "cell_type": "code",
   "execution_count": null,
   "id": "f67150e3",
   "metadata": {},
   "outputs": [],
   "source": [
    "tau0 = tau*np.ones([R,1])\n",
    "for N, results in estDict.items():\n",
    "    (bias,rmse,size) = fn_bias_rmse_size(tau0,results['tauhat'],\n",
    "                                         results['sehat'])\n",
    "    print(f'N={N}: bias={bias}, RMSE={rmse}, size={size}')"
   ]
  },
  {
   "cell_type": "markdown",
   "id": "87e9c30c",
   "metadata": {},
   "source": [
    "# Q3\n",
    "Example: Now consider the gender of the customers. If there are more women to buy the cups in the data collection. The shop may consider \n",
    "the color of women preference such as pink. However, there is not necessary connection between the fender of customers and the sales volumn of the cups with different colors. Sometimes women buy cups for their sons or husband. "
   ]
  },
  {
   "cell_type": "markdown",
   "id": "83fc3569",
   "metadata": {},
   "source": [
    "# control for the variable in between the path from cause to effect\n",
    "\n",
    "𝑦𝑖=𝜏∗𝑇𝑖+𝑒𝑖"
   ]
  },
  {
   "cell_type": "code",
   "execution_count": null,
   "id": "60ddc8e0",
   "metadata": {},
   "outputs": [],
   "source": [
    "g = gr.Digraph()\n",
    "g.edge(\"T\", \"X\")\n",
    "g.edge(\"T\", \"Y\")\n",
    "g"
   ]
  },
  {
   "cell_type": "code",
   "execution_count": null,
   "id": "92d4c385",
   "metadata": {},
   "outputs": [],
   "source": [
    "tau = 3\n",
    "corr = .5\n",
    "conf=False\n",
    "p = 10\n",
    "p0 = 0 # number of covariates used in the DGP\n",
    "Nrange = range(10,1000,2) # loop over N values\n",
    "(nvalues,tauhats,sehats,lb,ub) = fn_run_experiments(tau,Nrange,p,p0,corr,conf)"
   ]
  },
  {
   "cell_type": "code",
   "execution_count": null,
   "id": "45dba9a8",
   "metadata": {},
   "outputs": [],
   "source": [
    "caption = \"\"\"Estimates of the treatment effect parameter\n",
    "    for a randomized experiment with Selection Bias\"\"\"\n",
    "fn_plot_with_ci(nvalues4,tauhats4,tau,lb4,ub4,caption)"
   ]
  },
  {
   "cell_type": "code",
   "execution_count": null,
   "id": "f8bf9e91",
   "metadata": {},
   "outputs": [],
   "source": [
    "N = 100\n",
    "Yexp,T = fn_generate_data(tau,N,10,0,corr,conf = False)\n",
    "Yt = Yexp[np.where(T==1)[0],:]\n",
    "Yc = Yexp[np.where(T==0)[0],:]\n",
    "tauhat,se_tauhat = fn_tauhat_means(Yt,Yc)\n",
    "# n_values = n_values + [N]\n",
    "# tauhats = tauhats + [tauhat]\n",
    "lb = lb + [tauhat-1.96*se_tauhat]\n",
    "ub = ub + [tauhat+1.96*se_tauhat]"
   ]
  },
  {
   "cell_type": "code",
   "execution_count": null,
   "id": "404edc26",
   "metadata": {},
   "outputs": [],
   "source": [
    "tauhat, se_tauhat"
   ]
  },
  {
   "cell_type": "code",
   "execution_count": null,
   "id": "ba8cbf13",
   "metadata": {},
   "outputs": [],
   "source": [
    "estDict = {}\n",
    "R = 2000\n",
    "for N in [100,1000]:\n",
    "    tauhats = []\n",
    "    sehats = []\n",
    "    for r in tqdm(range(R)):\n",
    "        Yexp,T = fn_generate_data(tau,N,10,0,corr,conf)\n",
    "        Yt = Yexp[np.where(T==1)[0],:]\n",
    "        Yc = Yexp[np.where(T==0)[0],:]\n",
    "        tauhat,se_tauhat = fn_tauhat_means(Yt,Yc)\n",
    "        tauhats = tauhats + [tauhat]\n",
    "        sehats = sehats + [se_tauhat]\n",
    "    estDict[N] = {\n",
    "        'tauhat':np.array(tauhats).reshape([len(tauhats),1]),\n",
    "        'sehat':np.array(sehats).reshape([len(sehats),1])\n",
    "    }"
   ]
  },
  {
   "cell_type": "code",
   "execution_count": null,
   "id": "108e33a9",
   "metadata": {},
   "outputs": [],
   "source": [
    "tau0 = tau*np.ones([R,1])\n",
    "for N, results in estDict.items():\n",
    "    (bias,rmse,size) = fn_bias_rmse_size(tau0,results['tauhat'],\n",
    "                                         results['sehat'])\n",
    "    print(f'N={N}: bias={bias}, RMSE={rmse}, size={size}')"
   ]
  },
  {
   "cell_type": "markdown",
   "id": "65adc4b5",
   "metadata": {},
   "source": [
    "# do not control for the variable in between the path from cause to effect\n",
    "\n",
    "𝑦𝑖=𝜏∗𝑇𝑖+𝛽∗𝑋𝑖+𝑒𝑖"
   ]
  },
  {
   "cell_type": "code",
   "execution_count": null,
   "id": "326c6bd9",
   "metadata": {},
   "outputs": [],
   "source": [
    "tau = 3\n",
    "beta = 2\n",
    "corr = .5\n",
    "conf = True\n",
    "p = 100\n",
    "p0 = 0  # number of covariates used in the DGP\n",
    "Nrange = range(10, 1000, 2)  # loop over N values\n",
    "(nvalues3, tauhats3, sehats3, lb3, ub3) = fn_run_experiments(tau, Nrange, p, p0, corr, conf)"
   ]
  },
  {
   "cell_type": "code",
   "execution_count": null,
   "id": "cd802198",
   "metadata": {},
   "outputs": [],
   "source": [
    "N = 100\n",
    "Yexp, T = fn_generate_data(tau, N, 10, 0, corr, conf=True)\n",
    "Yt = Yexp[np.where(T == 1)[0], :]\n",
    "Yc = Yexp[np.where(T == 0)[0], :]\n",
    "tauhat, se_tauhat = fn_tauhat_means(Yt, Yc)\n",
    "lb = lb + [tauhat - 1.96 * se_tauhat]\n",
    "ub = ub + [tauhat + 1.96 * se_tauhat]"
   ]
  },
  {
   "cell_type": "code",
   "execution_count": null,
   "id": "692b51aa",
   "metadata": {},
   "outputs": [],
   "source": [
    "tauhat, se_tauhat"
   ]
  },
  {
   "cell_type": "code",
   "execution_count": null,
   "id": "794d425f",
   "metadata": {},
   "outputs": [],
   "source": [
    "estDict = {}\n",
    "R = 2000\n",
    "for N in [100,1000]:\n",
    "    tauhats = []\n",
    "    sehats = []\n",
    "    for r in tqdm(range(R)):\n",
    "        Yexp,T = fn_generate_data(tau,N,10,0,corr,conf)\n",
    "        Yt = Yexp[np.where(T==1)[0],:]\n",
    "        Yc = Yexp[np.where(T==0)[0],:]\n",
    "        tauhat,se_tauhat = fn_tauhat_means(Yt,Yc)\n",
    "        tauhats = tauhats + [tauhat]\n",
    "        sehats = sehats + [se_tauhat]\n",
    "    estDict[N] = {\n",
    "        'tauhat':np.array(tauhats).reshape([len(tauhats),1]),\n",
    "        'sehat':np.array(sehats).reshape([len(sehats),1])"
   ]
  },
  {
   "cell_type": "code",
   "execution_count": null,
   "id": "daa452b6",
   "metadata": {},
   "outputs": [],
   "source": [
    "tau0 = tau*np.ones([R,1])\n",
    "for N, results in estDict.items():\n",
    "    (bias,rmse,size) = fn_bias_rmse_size(tau0,results['tauhat'],\n",
    "                                         results['sehat'])\n",
    "    print(f'N={N}: bias={bias}, RMSE={rmse}, size={size}')"
   ]
  }
 ],
 "metadata": {
  "kernelspec": {
   "display_name": "Python 3 (ipykernel)",
   "language": "python",
   "name": "python3"
  },
  "language_info": {
   "codemirror_mode": {
    "name": "ipython",
    "version": 3
   },
   "file_extension": ".py",
   "mimetype": "text/x-python",
   "name": "python",
   "nbconvert_exporter": "python",
   "pygments_lexer": "ipython3",
   "version": "3.9.7"
  }
 },
 "nbformat": 4,
 "nbformat_minor": 5
}
